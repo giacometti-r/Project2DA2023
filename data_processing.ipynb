{
 "cells": [
  {
   "cell_type": "code",
   "execution_count": 16,
   "metadata": {},
   "outputs": [],
   "source": [
    "import pandas as pd\n",
    "import numpy as np"
   ]
  },
  {
   "cell_type": "code",
   "execution_count": 17,
   "metadata": {},
   "outputs": [],
   "source": [
    "anime_df = pd.read_csv('24_anime/anime.csv')\n",
    "rating_df = pd.read_csv('24_anime/rating.csv')"
   ]
  },
  {
   "cell_type": "code",
   "execution_count": null,
   "metadata": {},
   "outputs": [],
   "source": [
    "rating_df"
   ]
  },
  {
   "cell_type": "code",
   "execution_count": 18,
   "metadata": {},
   "outputs": [
    {
     "data": {
      "text/plain": [
       "(6337241, 3)"
      ]
     },
     "execution_count": 18,
     "metadata": {},
     "output_type": "execute_result"
    }
   ],
   "source": [
    "## DROP RATING, NAME AND MEMBERS DUE TO INSIGNIFICANCE ##\n",
    "anime_df = anime_df.drop(['rating','name','members'], axis=1)\n",
    "\n",
    "## REMOVE -1 FROM RATINGS ##\n",
    "rating_df = rating_df[rating_df.rating != -1]"
   ]
  },
  {
   "cell_type": "code",
   "execution_count": 13,
   "metadata": {},
   "outputs": [],
   "source": [
    "df_merge = pd.merge(rating_df, anime_df, on=['anime_id'])"
   ]
  },
  {
   "cell_type": "code",
   "execution_count": 14,
   "metadata": {},
   "outputs": [
    {
     "data": {
      "text/html": [
       "<div>\n",
       "<style scoped>\n",
       "    .dataframe tbody tr th:only-of-type {\n",
       "        vertical-align: middle;\n",
       "    }\n",
       "\n",
       "    .dataframe tbody tr th {\n",
       "        vertical-align: top;\n",
       "    }\n",
       "\n",
       "    .dataframe thead th {\n",
       "        text-align: right;\n",
       "    }\n",
       "</style>\n",
       "<table border=\"1\" class=\"dataframe\">\n",
       "  <thead>\n",
       "    <tr style=\"text-align: right;\">\n",
       "      <th></th>\n",
       "      <th>user_id</th>\n",
       "      <th>anime_id</th>\n",
       "      <th>rating</th>\n",
       "      <th>genre</th>\n",
       "      <th>type</th>\n",
       "      <th>episodes</th>\n",
       "    </tr>\n",
       "  </thead>\n",
       "  <tbody>\n",
       "    <tr>\n",
       "      <th>0</th>\n",
       "      <td>1</td>\n",
       "      <td>8074</td>\n",
       "      <td>10</td>\n",
       "      <td>Action, Ecchi, Horror, Supernatural</td>\n",
       "      <td>TV</td>\n",
       "      <td>12</td>\n",
       "    </tr>\n",
       "    <tr>\n",
       "      <th>1</th>\n",
       "      <td>3</td>\n",
       "      <td>8074</td>\n",
       "      <td>6</td>\n",
       "      <td>Action, Ecchi, Horror, Supernatural</td>\n",
       "      <td>TV</td>\n",
       "      <td>12</td>\n",
       "    </tr>\n",
       "    <tr>\n",
       "      <th>2</th>\n",
       "      <td>5</td>\n",
       "      <td>8074</td>\n",
       "      <td>2</td>\n",
       "      <td>Action, Ecchi, Horror, Supernatural</td>\n",
       "      <td>TV</td>\n",
       "      <td>12</td>\n",
       "    </tr>\n",
       "    <tr>\n",
       "      <th>3</th>\n",
       "      <td>12</td>\n",
       "      <td>8074</td>\n",
       "      <td>6</td>\n",
       "      <td>Action, Ecchi, Horror, Supernatural</td>\n",
       "      <td>TV</td>\n",
       "      <td>12</td>\n",
       "    </tr>\n",
       "    <tr>\n",
       "      <th>4</th>\n",
       "      <td>14</td>\n",
       "      <td>8074</td>\n",
       "      <td>6</td>\n",
       "      <td>Action, Ecchi, Horror, Supernatural</td>\n",
       "      <td>TV</td>\n",
       "      <td>12</td>\n",
       "    </tr>\n",
       "    <tr>\n",
       "      <th>...</th>\n",
       "      <td>...</td>\n",
       "      <td>...</td>\n",
       "      <td>...</td>\n",
       "      <td>...</td>\n",
       "      <td>...</td>\n",
       "      <td>...</td>\n",
       "    </tr>\n",
       "    <tr>\n",
       "      <th>6337234</th>\n",
       "      <td>69964</td>\n",
       "      <td>23585</td>\n",
       "      <td>7</td>\n",
       "      <td>Adventure, Drama, Slice of Life</td>\n",
       "      <td>Special</td>\n",
       "      <td>2</td>\n",
       "    </tr>\n",
       "    <tr>\n",
       "      <th>6337235</th>\n",
       "      <td>69964</td>\n",
       "      <td>33659</td>\n",
       "      <td>6</td>\n",
       "      <td>Comedy, Magic, Slice of Life</td>\n",
       "      <td>Special</td>\n",
       "      <td>1</td>\n",
       "    </tr>\n",
       "    <tr>\n",
       "      <th>6337236</th>\n",
       "      <td>72800</td>\n",
       "      <td>30738</td>\n",
       "      <td>4</td>\n",
       "      <td>Adventure, Kids</td>\n",
       "      <td>Movie</td>\n",
       "      <td>1</td>\n",
       "    </tr>\n",
       "    <tr>\n",
       "      <th>6337237</th>\n",
       "      <td>73135</td>\n",
       "      <td>8723</td>\n",
       "      <td>5</td>\n",
       "      <td>Comedy</td>\n",
       "      <td>OVA</td>\n",
       "      <td>4</td>\n",
       "    </tr>\n",
       "    <tr>\n",
       "      <th>6337238</th>\n",
       "      <td>73188</td>\n",
       "      <td>8749</td>\n",
       "      <td>6</td>\n",
       "      <td>Comedy</td>\n",
       "      <td>Special</td>\n",
       "      <td>1</td>\n",
       "    </tr>\n",
       "  </tbody>\n",
       "</table>\n",
       "<p>6337239 rows × 6 columns</p>\n",
       "</div>"
      ],
      "text/plain": [
       "         user_id  anime_id  rating                                genre  \\\n",
       "0              1      8074      10  Action, Ecchi, Horror, Supernatural   \n",
       "1              3      8074       6  Action, Ecchi, Horror, Supernatural   \n",
       "2              5      8074       2  Action, Ecchi, Horror, Supernatural   \n",
       "3             12      8074       6  Action, Ecchi, Horror, Supernatural   \n",
       "4             14      8074       6  Action, Ecchi, Horror, Supernatural   \n",
       "...          ...       ...     ...                                  ...   \n",
       "6337234    69964     23585       7      Adventure, Drama, Slice of Life   \n",
       "6337235    69964     33659       6         Comedy, Magic, Slice of Life   \n",
       "6337236    72800     30738       4                      Adventure, Kids   \n",
       "6337237    73135      8723       5                               Comedy   \n",
       "6337238    73188      8749       6                               Comedy   \n",
       "\n",
       "            type episodes  \n",
       "0             TV       12  \n",
       "1             TV       12  \n",
       "2             TV       12  \n",
       "3             TV       12  \n",
       "4             TV       12  \n",
       "...          ...      ...  \n",
       "6337234  Special        2  \n",
       "6337235  Special        1  \n",
       "6337236    Movie        1  \n",
       "6337237      OVA        4  \n",
       "6337238  Special        1  \n",
       "\n",
       "[6337239 rows x 6 columns]"
      ]
     },
     "execution_count": 14,
     "metadata": {},
     "output_type": "execute_result"
    }
   ],
   "source": [
    "df_merge"
   ]
  },
  {
   "cell_type": "code",
   "execution_count": 19,
   "metadata": {},
   "outputs": [],
   "source": [
    "df_merge.to_csv('data.csv', index=False)"
   ]
  }
 ],
 "metadata": {
  "kernelspec": {
   "display_name": "base",
   "language": "python",
   "name": "python3"
  },
  "language_info": {
   "codemirror_mode": {
    "name": "ipython",
    "version": 3
   },
   "file_extension": ".py",
   "mimetype": "text/x-python",
   "name": "python",
   "nbconvert_exporter": "python",
   "pygments_lexer": "ipython3",
   "version": "3.9.13"
  },
  "orig_nbformat": 4
 },
 "nbformat": 4,
 "nbformat_minor": 2
}

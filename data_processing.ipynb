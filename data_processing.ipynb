{
 "cells": [
  {
   "cell_type": "code",
   "execution_count": 66,
   "metadata": {},
   "outputs": [],
   "source": [
    "import pandas as pd\n",
    "import numpy as np\n",
    "from sklearn.preprocessing import MultiLabelBinarizer\n",
    "from sklearn.preprocessing import OneHotEncoder"
   ]
  },
  {
   "cell_type": "code",
   "execution_count": 67,
   "metadata": {},
   "outputs": [],
   "source": [
    "anime_df = pd.read_csv('24_anime/anime.csv')\n",
    "rating_df = pd.read_csv('24_anime/rating.csv')"
   ]
  },
  {
   "cell_type": "code",
   "execution_count": 68,
   "metadata": {},
   "outputs": [],
   "source": [
    "## DROP RATING, NAME AND MEMBERS DUE TO INSIGNIFICANCE ##\n",
    "anime_df = anime_df.drop(['rating','name','members'], axis=1)\n",
    "\n",
    "## REMOVE -1 FROM RATINGS ##\n",
    "rating_df = rating_df[rating_df.rating != -1]\n",
    "\n",
    "## REMOVE UKNOWN FROM NUMBER OF EPISODES"
   ]
  },
  {
   "cell_type": "code",
   "execution_count": 69,
   "metadata": {},
   "outputs": [],
   "source": [
    "df_merge = pd.merge(rating_df, anime_df, on=['anime_id'])"
   ]
  },
  {
   "cell_type": "code",
   "execution_count": 70,
   "metadata": {},
   "outputs": [
    {
     "name": "stdout",
     "output_type": "stream",
     "text": [
      "[    1     3     5 ... 66261 68269 73345]\n",
      "[ 8074 11617 11757 ... 30738  8723  8749]\n",
      "[10  6  2  7  9  8  4  5  3  1]\n",
      "['Action, Ecchi, Horror, Supernatural'\n",
      " 'Comedy, Demons, Ecchi, Harem, Romance, School'\n",
      " 'Action, Adventure, Fantasy, Game, Romance' ...\n",
      " 'Adventure, Shoujo, Slice of Life'\n",
      " 'Action, Adventure, Kids, Mecha, Sci-Fi, Space'\n",
      " 'Action, Historical, Kids']\n",
      "['TV' 'Movie' 'OVA' 'Special' 'ONA' 'Music']\n",
      "[1.200e+01 2.500e+01 2.200e+02 6.400e+01 1.010e+02 1.000e+00 2.760e+02\n",
      " 5.400e+01 2.910e+02 5.000e+01 5.000e+00 3.700e+01 1.920e+02 3.000e+00\n",
      " 1.100e+01 5.100e+01 1.270e+02 1.750e+02 8.400e+01 4.700e+01 1.300e+01\n",
      " 2.400e+01 4.300e+01 4.000e+00 2.600e+01 1.450e+02 5.200e+01 1.780e+02\n",
      " 9.400e+01 2.300e+01 4.900e+01 6.200e+01 8.000e+00 1.400e+01 1.530e+02\n",
      " 7.000e+01 1.670e+02 1.500e+02 7.500e+01 6.000e+00 3.660e+02 2.000e+01\n",
      " 1.120e+02 2.000e+00 2.240e+02 1.800e+02 2.960e+02 2.700e+01 2.010e+02\n",
      " 1.140e+02 4.800e+01 1.280e+02 1.600e+01 4.500e+01 6.600e+01 3.900e+01\n",
      " 1.000e+01 2.200e+01 9.900e+01 2.100e+01 3.800e+01 1.610e+02 4.600e+01\n",
      " 3.400e+01 2.900e+01 6.100e+01 1.480e+02 7.000e+00 1.500e+01 4.000e+01\n",
      " 9.700e+01 7.400e+01 6.000e+01 6.700e+01 7.800e+01 2.030e+02 3.200e+01\n",
      " 5.600e+01 7.300e+01 1.030e+02 9.000e+00 1.020e+02 1.720e+02 1.000e+02\n",
      " 6.500e+01 7.600e+01 1.900e+01 1.090e+02 7.700e+01 4.400e+01 9.600e+01\n",
      " 3.000e+01 1.540e+02 9.300e+01 1.040e+02 6.900e+01 1.100e+02 3.600e+01\n",
      " 1.910e+02 4.200e+01 1.470e+02 4.100e+01 5.800e+01 1.550e+02 3.500e+01\n",
      " 5.500e+01 9.200e+01 3.300e+01 1.560e+02 5.900e+01 3.580e+02 2.800e+01\n",
      " 1.050e+02 3.100e+01 1.130e+02 2.430e+02 9.800e+01 1.930e+02 1.950e+02\n",
      " 1.080e+02 1.420e+02 6.300e+01 1.787e+03 1.300e+02 1.370e+02 9.100e+01\n",
      " 1.700e+02 3.120e+02 1.620e+02 1.700e+01 1.150e+02 6.800e+01 1.800e+01\n",
      " 3.730e+02 7.900e+01 6.940e+02 1.240e+02 7.200e+01 3.000e+02 5.300e+01\n",
      " 1.820e+02 3.310e+02 5.260e+02 1.430e+02 1.170e+02 8.600e+01 9.500e+01\n",
      " 8.800e+01 2.000e+02 3.300e+02 2.370e+02 8.700e+01 1.410e+02 3.650e+02\n",
      " 1.428e+03 1.640e+02 3.050e+02 1.471e+03 5.100e+02 7.260e+02 1.006e+03\n",
      " 2.600e+02 2.400e+02 7.730e+02 1.990e+02 1.190e+02 2.630e+02 1.360e+02\n",
      " 1.400e+02 1.630e+02 4.750e+02 2.250e+02 1.818e+03 1.565e+03 8.000e+01\n",
      " 1.274e+03 1.510e+02]\n",
      "   user_id  anime_id  rating                                genre type  \\\n",
      "0        1      8074      10  Action, Ecchi, Horror, Supernatural   TV   \n",
      "1        3      8074       6  Action, Ecchi, Horror, Supernatural   TV   \n",
      "2        5      8074       2  Action, Ecchi, Horror, Supernatural   TV   \n",
      "3       12      8074       6  Action, Ecchi, Horror, Supernatural   TV   \n",
      "4       14      8074       6  Action, Ecchi, Horror, Supernatural   TV   \n",
      "\n",
      "   episodes  \n",
      "0      12.0  \n",
      "1      12.0  \n",
      "2      12.0  \n",
      "3      12.0  \n",
      "4      12.0  \n"
     ]
    }
   ],
   "source": [
    "df = df_merge\n",
    "column_list = df.columns.values.tolist()\n",
    "\n",
    "df.replace('nan', np.nan, inplace=True)\n",
    "df.replace('', pd.NA, inplace=True)\n",
    "df = df.dropna()\n",
    "df = df[df.episodes != 'Unknown']\n",
    "df = df.astype({'episodes':'float64'})\n",
    "\n",
    "\n",
    "df = df.dropna(how='any')           # assign back\n",
    "df.dropna(how='any', inplace=True)  # set inplace parameter\n",
    "\n",
    "for col in df:\n",
    "    print(df[col].unique())\n",
    "\n",
    "print(df.head())"
   ]
  },
  {
   "cell_type": "code",
   "execution_count": 71,
   "metadata": {},
   "outputs": [],
   "source": [
    "def one_hot_encode_single_values(df, column_name):\n",
    "    # Extract the column as a Series\n",
    "    column = df[column_name]\n",
    "\n",
    "    # Reshape the column as a 2D array\n",
    "    reshaped_column = column.values.reshape(-1, 1)\n",
    "\n",
    "    # Initialize OneHotEncoder and fit it to the column\n",
    "    encoder = OneHotEncoder(sparse=False)\n",
    "    one_hot_encoded = encoder.fit_transform(reshaped_column)\n",
    "\n",
    "    # Create a new DataFrame with the one-hot encoded values\n",
    "    one_hot_df = pd.DataFrame(one_hot_encoded, columns=encoder.categories_[0])\n",
    "    print(encoder.categories_[0])\n",
    "\n",
    "    # Concatenate the original DataFrame with the one-hot encoded DataFrame\n",
    "    df = pd.concat([df, one_hot_df], axis=1)\n",
    "\n",
    "    return df\n",
    "\n",
    "def one_hot_encode_dataframe(df, column_name):\n",
    "    # Split values in the specified column using commas\n",
    "    df[column_name] = df[column_name].str.replace(' ','')\n",
    "    df[column_name] = df[column_name].str.split(',')\n",
    "    \n",
    "\n",
    "    print(df[column_name])\n",
    "\n",
    "    # Initialize MultiLabelBinarizer and fit it to the column\n",
    "    mlb = MultiLabelBinarizer()\n",
    "    one_hot_encoded = mlb.fit_transform(df[column_name])\n",
    "    # classes = mlb.classes_\n",
    "\n",
    "    # Create a new DataFrame with the one-hot encoded values\n",
    "    one_hot_df = pd.DataFrame(one_hot_encoded, columns=mlb.classes_)\n",
    "\n",
    "    # Concatenate the original DataFrame with the one-hot encoded DataFrame\n",
    "    df = pd.concat([df, one_hot_df], axis=1)\n",
    "\n",
    "    return df"
   ]
  },
  {
   "cell_type": "code",
   "execution_count": 72,
   "metadata": {},
   "outputs": [
    {
     "name": "stdout",
     "output_type": "stream",
     "text": [
      "Before:\n",
      "0          Action,Ecchi,Horror,Supernatural\n",
      "1          Action,Ecchi,Horror,Supernatural\n",
      "2          Action,Ecchi,Horror,Supernatural\n",
      "3          Action,Ecchi,Horror,Supernatural\n",
      "4          Action,Ecchi,Horror,Supernatural\n",
      "                         ...               \n",
      "6337234         Adventure,Drama,SliceofLife\n",
      "6337235            Comedy,Magic,SliceofLife\n",
      "6337236                      Adventure,Kids\n",
      "6337237                              Comedy\n",
      "6337238                              Comedy\n",
      "Name: genre, Length: 6337145, dtype: object\n",
      "After:\n",
      "0          [Action, Ecchi, Horror, Supernatural]\n",
      "1          [Action, Ecchi, Horror, Supernatural]\n",
      "2          [Action, Ecchi, Horror, Supernatural]\n",
      "3          [Action, Ecchi, Horror, Supernatural]\n",
      "4          [Action, Ecchi, Horror, Supernatural]\n",
      "                           ...                  \n",
      "6337234          [Adventure, Drama, SliceofLife]\n",
      "6337235             [Comedy, Magic, SliceofLife]\n",
      "6337236                        [Adventure, Kids]\n",
      "6337237                                 [Comedy]\n",
      "6337238                                 [Comedy]\n",
      "Name: genre, Length: 6337145, dtype: object\n",
      "0          [Action, Ecchi, Horror, Supernatural]\n",
      "1          [Action, Ecchi, Horror, Supernatural]\n",
      "2          [Action, Ecchi, Horror, Supernatural]\n",
      "3          [Action, Ecchi, Horror, Supernatural]\n",
      "4          [Action, Ecchi, Horror, Supernatural]\n",
      "                           ...                  \n",
      "6337234          [Adventure, Drama, SliceofLife]\n",
      "6337235             [Comedy, Magic, SliceofLife]\n",
      "6337236                        [Adventure, Kids]\n",
      "6337237                                 [Comedy]\n",
      "6337238                                 [Comedy]\n",
      "Name: genre, Length: 6337145, dtype: object\n",
      "['Movie' 'Music' 'ONA' 'OVA' 'Special' 'TV' nan]\n"
     ]
    }
   ],
   "source": [
    "df = one_hot_encode_dataframe(df, 'genre')\n",
    "\n",
    "df = one_hot_encode_single_values(df, 'type')\n",
    "\n",
    "df = df.dropna()\n",
    "\n",
    "df.to_csv('data.csv', header=True, index=False)"
   ]
  }
 ],
 "metadata": {
  "kernelspec": {
   "display_name": "base",
   "language": "python",
   "name": "python3"
  },
  "language_info": {
   "codemirror_mode": {
    "name": "ipython",
    "version": 3
   },
   "file_extension": ".py",
   "mimetype": "text/x-python",
   "name": "python",
   "nbconvert_exporter": "python",
   "pygments_lexer": "ipython3",
   "version": "3.9.13"
  },
  "orig_nbformat": 4,
  "vscode": {
   "interpreter": {
    "hash": "3d597f4c481aa0f25dceb95d2a0067e73c0966dcbd003d741d821a7208527ecf"
   }
  }
 },
 "nbformat": 4,
 "nbformat_minor": 2
}
